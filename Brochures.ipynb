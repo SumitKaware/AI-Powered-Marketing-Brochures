{
 "cells": [
  {
   "cell_type": "code",
   "execution_count": 13,
   "id": "7df896ae",
   "metadata": {},
   "outputs": [],
   "source": [
    "import re\n",
    "import os\n",
    "import requests\n",
    "import json\n",
    "from typing import List\n",
    "from dotenv import load_dotenv\n",
    "from bs4 import BeautifulSoup\n",
    "from IPython.display import Markdown, display, update_display\n",
    "from google import genai"
   ]
  },
  {
   "cell_type": "code",
   "execution_count": null,
   "id": "6410299b",
   "metadata": {},
   "outputs": [],
   "source": []
  },
  {
   "cell_type": "code",
   "execution_count": null,
   "id": "9764204c",
   "metadata": {},
   "outputs": [
    {
     "data": {
      "text/plain": [
       "'135.0.7049.115'"
      ]
     },
     "execution_count": 11,
     "metadata": {},
     "output_type": "execute_result"
    }
   ],
   "source": [
    "def Chrome_Version():\n",
    "    ChromeVer = !reg query \"HKEY_CURRENT_USER\\Software\\Google\\Chrome\\BLBeacon\" /v version\n",
    "    text = '\\n'.join(ChromeVer)\n",
    "\n",
    "    # Extract the version number\n",
    "    version = re.search(r'\\d+\\.\\d+\\.\\d+\\.\\d+', text)\n",
    "    ChromeVer = version.group() if version else \"Not found\"\n",
    "    #print(\"Chrome version:\", version.group() if version else \"Not found\")\n",
    "    return ChromeVer\n",
    "latestversion = Chrome_Version()\n",
    "latestversion"
   ]
  },
  {
   "cell_type": "code",
   "execution_count": null,
   "id": "5cf37e3f",
   "metadata": {},
   "outputs": [],
   "source": []
  }
 ],
 "metadata": {
  "kernelspec": {
   "display_name": "Python 3",
   "language": "python",
   "name": "python3"
  },
  "language_info": {
   "codemirror_mode": {
    "name": "ipython",
    "version": 3
   },
   "file_extension": ".py",
   "mimetype": "text/x-python",
   "name": "python",
   "nbconvert_exporter": "python",
   "pygments_lexer": "ipython3",
   "version": "3.12.4"
  }
 },
 "nbformat": 4,
 "nbformat_minor": 5
}
